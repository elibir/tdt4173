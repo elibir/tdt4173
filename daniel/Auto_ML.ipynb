{
 "cells": [
  {
   "cell_type": "code",
   "execution_count": 2,
   "metadata": {},
   "outputs": [],
   "source": [
    "import tensorflow as tf\n",
    "import os\n",
    "import numpy as np\n",
    "import pandas as pd\n",
    "from tensorflow.keras.models import Sequential\n",
    "from tensorflow.keras.layers import LSTM, Dense\n",
    "from sklearn import utils\n",
    "import plot_utils as pu\n",
    "import matplotlib.pyplot as plt\n",
    "import seaborn  as sns\n",
    "from hyperts import make_experiment\n",
    "from sklearn.model_selection import train_test_split\n",
    "from sklearn.metrics import mean_absolute_error as mae\n",
    "import utils_daniel\n"
   ]
  },
  {
   "cell_type": "code",
   "execution_count": 3,
   "metadata": {},
   "outputs": [],
   "source": [
    "X_train_estimated_a = pd.read_parquet('../data/A/X_train_estimated.parquet')\n",
    "X_train_estimated_b = pd.read_parquet('../data/B/X_train_estimated.parquet')\n",
    "X_train_estimated_c = pd.read_parquet('../data/C/X_train_estimated.parquet')\n",
    "X_train_estimated_a['date_forecast'] = pd.to_datetime(X_train_estimated_a['date_forecast'])\n",
    "X_train_estimated_b['date_forecast'] = pd.to_datetime(X_train_estimated_b['date_forecast'])\n",
    "X_train_estimated_c['date_forecast'] = pd.to_datetime(X_train_estimated_c['date_forecast'])\n",
    "X_train_estimated_a = X_train_estimated_a.set_index(\"date_forecast\")\n",
    "X_train_estimated_b = X_train_estimated_b.set_index(\"date_forecast\")\n",
    "X_train_estimated_c = X_train_estimated_c.set_index(\"date_forecast\")\n",
    "\n",
    "\n",
    "X_train_observed_a = pd.read_parquet('../data/A/X_train_observed.parquet')\n",
    "X_train_observed_b = pd.read_parquet('../data/B/X_train_observed.parquet')\n",
    "X_train_observed_c = pd.read_parquet('../data/C/X_train_observed.parquet')\n",
    "X_train_observed_a['date_forecast'] = pd.to_datetime(X_train_observed_a['date_forecast'])\n",
    "X_train_observed_b['date_forecast'] = pd.to_datetime(X_train_observed_b['date_forecast'])\n",
    "X_train_observed_c['date_forecast'] = pd.to_datetime(X_train_observed_c['date_forecast'])\n",
    "X_train_observed_a = X_train_observed_a.set_index(\"date_forecast\")\n",
    "X_train_observed_b = X_train_observed_b.set_index(\"date_forecast\")\n",
    "X_train_observed_c = X_train_observed_c.set_index(\"date_forecast\")\n",
    "\n",
    "X_test_estimated_a = pd.read_parquet('../data/A/X_test_estimated.parquet')\n",
    "X_test_estimated_b = pd.read_parquet('../data/B/X_test_estimated.parquet')\n",
    "X_test_estimated_c = pd.read_parquet('../data/C/X_test_estimated.parquet')\n",
    "X_test_estimated_a['date_forecast'] = pd.to_datetime(X_test_estimated_a['date_forecast'])\n",
    "X_test_estimated_b['date_forecast'] = pd.to_datetime(X_test_estimated_b['date_forecast'])\n",
    "X_test_estimated_c['date_forecast'] = pd.to_datetime(X_test_estimated_c['date_forecast'])\n",
    "X_test_estimated_a = X_test_estimated_a.set_index(\"date_forecast\")\n",
    "X_test_estimated_b = X_test_estimated_b.set_index(\"date_forecast\")\n",
    "X_test_estimated_c = X_test_estimated_c.set_index(\"date_forecast\")\n",
    "\n",
    "A_targets = pd.read_parquet(\"../data/A/train_targets.parquet\")\n",
    "B_targets = pd.read_parquet(\"../data/B/train_targets.parquet\")\n",
    "C_targets = pd.read_parquet(\"../data/C/train_targets.parquet\")\n",
    "\n",
    "A_targets[\"time\"] = pd.to_datetime(A_targets[\"time\"])\n",
    "B_targets[\"time\"] = pd.to_datetime(B_targets[\"time\"])\n",
    "C_targets[\"time\"] = pd.to_datetime(C_targets[\"time\"])\n",
    "\n",
    "\n",
    "A_targets = A_targets.set_index(\"time\")\n",
    "B_targets = B_targets.set_index(\"time\")\n",
    "C_targets = C_targets.set_index(\"time\")\n",
    "\n",
    "# removing rows where pv_measurment remains the same for more than 18 hours.\n",
    "A_targets_clean = utils_daniel.remove_constant_values(A_targets, \"pv_measurement\", 18).dropna()\n",
    "B_targets_clean = utils_daniel.remove_constant_values(B_targets, \"pv_measurement\", 18).dropna()\n",
    "C_targets_clean = utils_daniel.remove_constant_values(C_targets, \"pv_measurement\", 18).dropna()\n",
    "\n",
    "\n"
   ]
  }
 ],
 "metadata": {
  "kernelspec": {
   "display_name": "Python 3",
   "language": "python",
   "name": "python3"
  },
  "language_info": {
   "codemirror_mode": {
    "name": "ipython",
    "version": 3
   },
   "file_extension": ".py",
   "mimetype": "text/x-python",
   "name": "python",
   "nbconvert_exporter": "python",
   "pygments_lexer": "ipython3",
   "version": "3.11.1 (v3.11.1:a7a450f84a, Dec  6 2022, 15:24:06) [Clang 13.0.0 (clang-1300.0.29.30)]"
  },
  "orig_nbformat": 4,
  "vscode": {
   "interpreter": {
    "hash": "aee8b7b246df8f9039afb4144a1f6fd8d2ca17a180786b69acc140d282b71a49"
   }
  }
 },
 "nbformat": 4,
 "nbformat_minor": 2
}
